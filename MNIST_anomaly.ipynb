{
 "cells": [
  {
   "cell_type": "markdown",
   "metadata": {},
   "source": [
    "# Image anomaly detection with deep learning autoencoder"
   ]
  },
  {
   "cell_type": "code",
   "execution_count": 158,
   "metadata": {},
   "outputs": [
    {
     "name": "stdout",
     "output_type": "stream",
     "text": [
      "tensorflow\n"
     ]
    }
   ],
   "source": [
    "import os\n",
    "os.environ[\"KERAS_BACKEND\"] = \"tensorflow\"\n",
    "kerasBKED = os.environ[\"KERAS_BACKEND\"] \n",
    "print(kerasBKED)"
   ]
  },
  {
   "cell_type": "code",
   "execution_count": 159,
   "metadata": {},
   "outputs": [],
   "source": [
    "import keras\n",
    "from keras.datasets import mnist\n",
    "from keras.models import Sequential\n",
    "from keras.layers import Dense, Dropout, Flatten, BatchNormalization, Activation\n",
    "from keras.layers import Conv2D, MaxPooling2D, UpSampling2D\n",
    "from keras.callbacks import EarlyStopping, ModelCheckpoint\n",
    "from keras import backend as K\n",
    "import numpy as np\n",
    "import matplotlib.pyplot as plt\n",
    "import cv2\n",
    "import copy"
   ]
  },
  {
   "cell_type": "code",
   "execution_count": 160,
   "metadata": {},
   "outputs": [],
   "source": [
    "aesaveDir = \"./aemnist/\"\n",
    "if not os.path.isdir(aesaveDir):\n",
    "    os.makedirs(aesaveDir)\n",
    "saveDir = \"./mnist/\"\n",
    "if not os.path.isdir(saveDir):\n",
    "    os.makedirs(saveDir)"
   ]
  },
  {
   "cell_type": "code",
   "execution_count": 161,
   "metadata": {},
   "outputs": [],
   "source": [
    "num_classes = 10\n",
    "# input image dimensions\n",
    "img_rows, img_cols = 28, 28\n",
    "\n",
    "# the data, shuffled and split between train and test sets\n",
    "(x_train, y_train), (x_test, y_test) = mnist.load_data()"
   ]
  },
  {
   "cell_type": "code",
   "execution_count": 162,
   "metadata": {},
   "outputs": [
    {
     "data": {
      "image/png": "[encoded data removed]",
      "text/plain": [
       "<matplotlib.figure.Figure at 0x7f906c1ba080>"
      ]
     },
     "metadata": {},
     "output_type": "display_data"
    }
   ],
   "source": [
    "a = 0\n",
    "for i in range(len(x_test[:10000])):\n",
    "    if i % 500 == 0:\n",
    "        a += 1\n",
    "        plt.subplot(4,5,a)\n",
    "        plt.imshow(x_test[i], cmap=plt.get_cmap('gray'))\n",
    "plt.show()"
   ]
  },
  {
   "cell_type": "code",
   "execution_count": 163,
   "metadata": {},
   "outputs": [],
   "source": [
    "x_train = x_train.reshape(x_train.shape[0], img_rows, img_cols, 1)\n",
    "x_test = x_test.reshape(x_test.shape[0], img_rows, img_cols, 1)\n",
    "input_shape = (img_rows, img_cols, 1)"
   ]
  },
  {
   "cell_type": "code",
   "execution_count": 164,
   "metadata": {
    "scrolled": true
   },
   "outputs": [
    {
     "name": "stdout",
     "output_type": "stream",
     "text": [
      "x_train shape: (60000, 28, 28, 1)\n",
      "60000 train samples\n",
      "10000 test samples\n"
     ]
    }
   ],
   "source": [
    "x_train = x_train.astype('float32')\n",
    "x_test = x_test.astype('float32')\n",
    "x_train /= 255\n",
    "x_test /= 255\n",
    "print('x_train shape:', x_train.shape)\n",
    "print(x_train.shape[0], 'train samples')\n",
    "print(x_test.shape[0], 'test samples')"
   ]
  },
  {
   "cell_type": "code",
   "execution_count": 165,
   "metadata": {},
   "outputs": [],
   "source": [
    "# convert class vectors to binary class matrices\n",
    "y_train = keras.utils.to_categorical(y_train, num_classes)\n",
    "y_test = keras.utils.to_categorical(y_test, num_classes)"
   ]
  },
  {
   "cell_type": "code",
   "execution_count": null,
   "metadata": {},
   "outputs": [],
   "source": []
  },
  {
   "cell_type": "code",
   "execution_count": 166,
   "metadata": {},
   "outputs": [],
   "source": [
    "batch_size = 128\n",
    "epochs = 100"
   ]
  },
  {
   "cell_type": "code",
   "execution_count": 167,
   "metadata": {},
   "outputs": [],
   "source": [
    "autoEnc = Sequential()\n",
    "autoEnc.add(Conv2D(32, kernel_size=(3,3), padding='same',\n",
    "                  input_shape=input_shape))\n",
    "autoEnc.add(BatchNormalization())\n",
    "autoEnc.add(Activation(\"relu\"))\n",
    "autoEnc.add(MaxPooling2D((2, 2), padding='same'))\n",
    "\n",
    "autoEnc.add(Conv2D(16, kernel_size=(3,3), padding='same'))\n",
    "autoEnc.add(BatchNormalization())\n",
    "autoEnc.add(Activation(\"relu\"))\n",
    "autoEnc.add(MaxPooling2D((2, 2), padding='same'))\n",
    "\n",
    "autoEnc.add(Conv2D(8, kernel_size=(3,3), padding='same'))\n",
    "autoEnc.add(BatchNormalization())\n",
    "autoEnc.add(Activation(\"relu\"))\n",
    "autoEnc.add(MaxPooling2D((2, 2), padding='same'))\n",
    "\n",
    "\n",
    "autoEnc.add(Conv2D(8, kernel_size=(3,3), padding='same'))\n",
    "autoEnc.add(BatchNormalization())\n",
    "autoEnc.add(Activation(\"relu\"))\n",
    "autoEnc.add(UpSampling2D((2, 2)))\n",
    "\n",
    "autoEnc.add(Conv2D(16, kernel_size=(3,3), padding='same'))\n",
    "autoEnc.add(BatchNormalization())\n",
    "autoEnc.add(Activation(\"relu\"))\n",
    "autoEnc.add(UpSampling2D((2, 2)))\n",
    "\n",
    "autoEnc.add(Conv2D(32, kernel_size=(3,3)))\n",
    "autoEnc.add(BatchNormalization())\n",
    "autoEnc.add(Activation(\"relu\"))\n",
    "autoEnc.add(UpSampling2D((2, 2)))\n",
    "\n",
    "autoEnc.add(Conv2D(1, kernel_size=(3,3), padding='same'))\n",
    "autoEnc.add(BatchNormalization())\n",
    "autoEnc.add(Activation(\"sigmoid\"))"
   ]
  },
  {
   "cell_type": "code",
   "execution_count": 168,
   "metadata": {},
   "outputs": [],
   "source": [
    "autoEnc.compile(loss=keras.losses.mean_squared_error,\n",
    "                optimizer=keras.optimizers.Adam())"
   ]
  },
  {
   "cell_type": "code",
   "execution_count": 169,
   "metadata": {},
   "outputs": [],
   "source": [
    "# get the newest model file\n",
    "def getNewestModel(model, dirname):\n",
    "    from glob import glob\n",
    "    target = os.path.join(dirname, '*')\n",
    "    files = [(f, os.path.getmtime(f)) for f in glob(target)]\n",
    "    if len(files) == 0:\n",
    "        return model\n",
    "    else:\n",
    "        newestModel = sorted(files, key=lambda files: files[1])[-1]\n",
    "        model.load_weights(newestModel[0])\n",
    "        return model\n",
    "autoEnc = getNewestModel(autoEnc, aesaveDir)"
   ]
  },
  {
   "cell_type": "code",
   "execution_count": 170,
   "metadata": {},
   "outputs": [],
   "source": [
    "es_cb = EarlyStopping(monitor='val_loss', patience=2, verbose=1, mode='auto')\n",
    "chkpt = os.path.join(aesaveDir, 'MNIST_AE.{epoch:02d}-{loss:.2f}-{val_loss:.2f}.hdf5')\n",
    "cp_cb = ModelCheckpoint(filepath = chkpt, monitor='val_loss', verbose=1, save_best_only=True, mode='auto')"
   ]
  },
  {
   "cell_type": "code",
   "execution_count": 171,
   "metadata": {
    "scrolled": true
   },
   "outputs": [
    {
     "name": "stdout",
     "output_type": "stream",
     "text": [
      "Train on 60000 samples, validate on 10000 samples\n",
      "Epoch 1/100\n",
      "59904/60000 [============================>.] - ETA: 0s - loss: 0.0076Epoch 00001: val_loss improved from inf to 0.00735, saving model to ./aemnist/MNIST_AE.01-0.01-0.01.hdf5\n",
      "60000/60000 [==============================] - 93s 2ms/step - loss: 0.0076 - val_loss: 0.0073\n",
      "Epoch 2/100\n",
      "59904/60000 [============================>.] - ETA: 0s - loss: 0.0073Epoch 00002: val_loss improved from 0.00735 to 0.00720, saving model to ./aemnist/MNIST_AE.02-0.01-0.01.hdf5\n",
      "60000/60000 [==============================] - 88s 1ms/step - loss: 0.0073 - val_loss: 0.0072\n",
      "Epoch 3/100\n",
      "59904/60000 [============================>.] - ETA: 0s - loss: 0.0072Epoch 00003: val_loss did not improve\n",
      "60000/60000 [==============================] - 87s 1ms/step - loss: 0.0072 - val_loss: 0.0076\n",
      "Epoch 4/100\n",
      "59904/60000 [============================>.] - ETA: 0s - loss: 0.0070Epoch 00004: val_loss did not improve\n",
      "60000/60000 [==============================] - 88s 1ms/step - loss: 0.0070 - val_loss: 0.0072\n",
      "Epoch 00004: early stopping\n"
     ]
    },
    {
     "data": {
      "text/plain": [
       "<keras.callbacks.History at 0x7f906f9f3b38>"
      ]
     },
     "execution_count": 171,
     "metadata": {},
     "output_type": "execute_result"
    }
   ],
   "source": [
    "autoEnc.fit(x_train, x_train,\n",
    "            batch_size=batch_size,\n",
    "            epochs=epochs,\n",
    "            verbose=1,\n",
    "            callbacks=[es_cb, cp_cb],\n",
    "            validation_data=(x_test, x_test),\n",
    "            shuffle=True)"
   ]
  },
  {
   "cell_type": "code",
   "execution_count": 172,
   "metadata": {},
   "outputs": [],
   "source": [
    "autoEnc = getNewestModel(autoEnc, aesaveDir)"
   ]
  },
  {
   "cell_type": "code",
   "execution_count": 173,
   "metadata": {},
   "outputs": [],
   "source": [
    "mnistAE = []\n",
    "for i in range(len(x_test)):\n",
    "    aeScore = autoEnc.evaluate(np.array([x_test[i]]), np.array([x_test[i]]), verbose=0)\n",
    "    mnistAE.append(aeScore)"
   ]
  },
  {
   "cell_type": "code",
   "execution_count": 174,
   "metadata": {},
   "outputs": [],
   "source": [
    "aePred = autoEnc.predict(x_test)"
   ]
  },
  {
   "cell_type": "code",
   "execution_count": 268,
   "metadata": {},
   "outputs": [],
   "source": [
    "cc = 0\n",
    "for i in range(len(aePred)):\n",
    "    a = mnistAE[i] / np.average(x_test[i])\n",
    "    if a > 0.15:\n",
    "        cc += 1"
   ]
  },
  {
   "cell_type": "code",
   "execution_count": 269,
   "metadata": {},
   "outputs": [
    {
     "name": "stdout",
     "output_type": "stream",
     "text": [
      "Ratio of detected anomaly within real data: 0.0173\n"
     ]
    }
   ],
   "source": [
    "print(\"Ratio of detected anomaly within real data: {0}\".format(cc/len(x_test)))"
   ]
  },
  {
   "cell_type": "code",
   "execution_count": 177,
   "metadata": {},
   "outputs": [
    {
     "data": {
      "image/png": "[encoded data removed]",
      "text/plain": [
       "<matplotlib.figure.Figure at 0x7f906e7c57f0>"
      ]
     },
     "metadata": {},
     "output_type": "display_data"
    }
   ],
   "source": [
    "aePredR = aePred.reshape(aePred.shape[0], img_rows, img_cols)\n",
    "a = 0\n",
    "for i in range(len(aePredR[:10000])):\n",
    "    if i % 500 == 0:\n",
    "        a += 1\n",
    "        plt.subplot(4,5,a)\n",
    "        plt.imshow(aePredR[i], cmap=plt.get_cmap('gray'))\n",
    "plt.show()"
   ]
  },
  {
   "cell_type": "code",
   "execution_count": null,
   "metadata": {},
   "outputs": [],
   "source": []
  },
  {
   "cell_type": "code",
   "execution_count": null,
   "metadata": {},
   "outputs": [],
   "source": []
  },
  {
   "cell_type": "code",
   "execution_count": null,
   "metadata": {},
   "outputs": [],
   "source": []
  },
  {
   "cell_type": "code",
   "execution_count": 178,
   "metadata": {},
   "outputs": [],
   "source": [
    "# generate an image with one line\n",
    "def drawLine():\n",
    "    leftFrom = np.random.randint(28)\n",
    "    rightTo = np.random.randint(28)\n",
    "    darkness = np.random.randint(200,255)\n",
    "    lineSize = np.random.randint(1,4)\n",
    "    img = np.zeros((28,28), np.uint8)\n",
    "    img = cv2.line(img, (0,leftFrom), (27, rightTo), (darkness), lineSize)\n",
    "    return img"
   ]
  },
  {
   "cell_type": "code",
   "execution_count": 179,
   "metadata": {},
   "outputs": [],
   "source": [
    "# generate an image with two lines\n",
    "def drawTwoLines():\n",
    "    img = np.zeros((28,28), np.uint8)\n",
    "    for i in range(2):\n",
    "        leftFrom = np.random.randint(28)\n",
    "        rightTo = np.random.randint(28)\n",
    "        darkness = np.random.randint(200,255)\n",
    "        lineSize = np.random.randint(1,4)\n",
    "        img = cv2.line(img, (0,leftFrom), (27, rightTo), (darkness), lineSize)\n",
    "    return img"
   ]
  },
  {
   "cell_type": "code",
   "execution_count": 180,
   "metadata": {},
   "outputs": [],
   "source": [
    "# generate an image with multiple lines\n",
    "def drawMultiLines():\n",
    "    numLines = np.random.randint(3,8)\n",
    "    img = np.zeros((28,28), np.uint8)\n",
    "    for i in range(numLines):\n",
    "        s1 = np.random.randint(0,10)\n",
    "        s2 = np.random.randint(0,10)\n",
    "        e1 = np.random.randint(18,28)\n",
    "        e2 = np.random.randint(18,28)\n",
    "        darkness = np.random.randint(200,255)\n",
    "        lineSize = np.random.randint(1,4)\n",
    "        img = cv2.line(img, (s1,s2), (e1,e2), (darkness), lineSize)\n",
    "    return img"
   ]
  },
  {
   "cell_type": "code",
   "execution_count": 181,
   "metadata": {},
   "outputs": [],
   "source": [
    "# generate an image with lines drawn on a x_train image\n",
    "def drawLinesOnImg():\n",
    "    numLines = np.random.randint(2,4)\n",
    "    imn = np.random.randint(len(x_train))\n",
    "    img = copy.deepcopy(x_train[imn])\n",
    "    img *= 255\n",
    "    img = img.reshape(img_rows, img_cols)\n",
    "    for i in range(numLines):\n",
    "        s1 = np.random.randint(0,10)\n",
    "        s2 = np.random.randint(0,10)\n",
    "        e1 = np.random.randint(18,28)\n",
    "        e2 = np.random.randint(18,28)\n",
    "        darkness = np.random.randint(200,255)\n",
    "        lineSize = np.random.randint(1,3)\n",
    "        img = cv2.line(img, (s1,s2), (e1,e2), (darkness), lineSize)\n",
    "    return img"
   ]
  },
  {
   "cell_type": "code",
   "execution_count": 260,
   "metadata": {
    "scrolled": true
   },
   "outputs": [
    {
     "data": {
      "text/plain": [
       "(10000, 28, 28)"
      ]
     },
     "execution_count": 260,
     "metadata": {},
     "output_type": "execute_result"
    }
   ],
   "source": [
    "anomImg = np.array([drawLine() for i in range(2500)])\n",
    "anomImg2 = np.array([drawTwoLines() for i in range(2500)])\n",
    "anomImg3 = np.array([drawMultiLines() for i in range(2500)])\n",
    "anomImg4 = np.array([drawLinesOnImg() for i in range(2500)])\n",
    "anomImg = np.vstack((np.vstack((np.vstack((anomImg,anomImg2)),anomImg3)),anomImg4))\n",
    "anomImg.shape"
   ]
  },
  {
   "cell_type": "code",
   "execution_count": 261,
   "metadata": {
    "scrolled": true
   },
   "outputs": [
    {
     "data": {
      "image/png": "[encoded data removed]",
      "text/plain": [
       "<matplotlib.figure.Figure at 0x7f906c662400>"
      ]
     },
     "metadata": {},
     "output_type": "display_data"
    }
   ],
   "source": [
    "a = 0\n",
    "for i in range(len(anomImg)):\n",
    "    if i % 500 == 0:\n",
    "        a += 1\n",
    "        plt.subplot(4,5,a)\n",
    "        plt.imshow(anomImg[i], cmap=plt.get_cmap('gray'))\n",
    "plt.show()"
   ]
  },
  {
   "cell_type": "code",
   "execution_count": 262,
   "metadata": {},
   "outputs": [],
   "source": [
    "anomImgR = anomImg.reshape(anomImg.shape[0], img_rows, img_cols, 1)\n",
    "anomImgR = anomImgR.astype('float32')\n",
    "anomImgR /= 255"
   ]
  },
  {
   "cell_type": "code",
   "execution_count": 263,
   "metadata": {},
   "outputs": [],
   "source": [
    "anomEvl = []\n",
    "for i in anomImgR:\n",
    "    anomScore = autoEnc.evaluate(np.array([i]), np.array([i]), verbose=0)\n",
    "    anomEvl.append(anomScore)"
   ]
  },
  {
   "cell_type": "code",
   "execution_count": 270,
   "metadata": {},
   "outputs": [],
   "source": [
    "ac = 0\n",
    "for i in range(len(anomImgR)):\n",
    "    a = anomEvl[i] / np.average(anomImgR[i])\n",
    "    if a > 0.15:\n",
    "        ac += 1"
   ]
  },
  {
   "cell_type": "code",
   "execution_count": 271,
   "metadata": {},
   "outputs": [
    {
     "name": "stdout",
     "output_type": "stream",
     "text": [
      "Ratio of detected anomaly within false data: 0.9799\n"
     ]
    }
   ],
   "source": [
    "print(\"Ratio of detected anomaly within false data: {0}\".format(ac/len(anomImgR)))"
   ]
  },
  {
   "cell_type": "code",
   "execution_count": null,
   "metadata": {},
   "outputs": [],
   "source": []
  },
  {
   "cell_type": "code",
   "execution_count": 266,
   "metadata": {},
   "outputs": [],
   "source": [
    "anomAE = autoEnc.predict(anomImgR)\n",
    "anomAER = anomAE.reshape(anomAE.shape[0], img_rows, img_cols)"
   ]
  },
  {
   "cell_type": "code",
   "execution_count": 267,
   "metadata": {
    "scrolled": true
   },
   "outputs": [
    {
     "data": {
      "image/png": "[encoded data removed]",
      "text/plain": [
       "<matplotlib.figure.Figure at 0x7f904ff3d630>"
      ]
     },
     "metadata": {},
     "output_type": "display_data"
    }
   ],
   "source": [
    "a = 0\n",
    "for i in range(len(anomAER)):\n",
    "    if i % 500 == 0:\n",
    "        a += 1\n",
    "        plt.subplot(4,5,a)\n",
    "        plt.imshow(anomAER[i], cmap=plt.get_cmap('gray'))\n",
    "plt.show()"
   ]
  },
  {
   "cell_type": "code",
   "execution_count": null,
   "metadata": {},
   "outputs": [],
   "source": []
  },
  {
   "cell_type": "code",
   "execution_count": null,
   "metadata": {},
   "outputs": [],
   "source": []
  },
  {
   "cell_type": "code",
   "execution_count": null,
   "metadata": {},
   "outputs": [],
   "source": []
  },
  {
   "cell_type": "code",
   "execution_count": 272,
   "metadata": {},
   "outputs": [],
   "source": [
    "batch_size = 128\n",
    "epochs = 100"
   ]
  },
  {
   "cell_type": "code",
   "execution_count": 273,
   "metadata": {},
   "outputs": [],
   "source": [
    "model = Sequential()\n",
    "model.add(Conv2D(32, kernel_size=(3, 3),\n",
    "                 activation='relu',\n",
    "                 input_shape=input_shape))\n",
    "model.add(Conv2D(64, (3, 3), activation='relu'))\n",
    "model.add(MaxPooling2D(pool_size=(2, 2)))\n",
    "model.add(Dropout(0.25))\n",
    "model.add(Flatten())\n",
    "model.add(Dense(128, activation='relu'))\n",
    "model.add(Dropout(0.5))\n",
    "model.add(Dense(num_classes, activation='softmax'))"
   ]
  },
  {
   "cell_type": "code",
   "execution_count": 274,
   "metadata": {},
   "outputs": [],
   "source": [
    "model.compile(loss=keras.losses.categorical_crossentropy,\n",
    "              optimizer=keras.optimizers.Adam(),\n",
    "              metrics=['accuracy'])"
   ]
  },
  {
   "cell_type": "code",
   "execution_count": 275,
   "metadata": {},
   "outputs": [],
   "source": [
    "model = getNewestModel(model, saveDir)"
   ]
  },
  {
   "cell_type": "code",
   "execution_count": 276,
   "metadata": {},
   "outputs": [],
   "source": [
    "es_cb = EarlyStopping(monitor='val_loss', patience=3, verbose=1, mode='auto')\n",
    "chkpt = os.path.join(saveDir, 'MNIST.{epoch:02d}-{loss:.2f}-{val_loss:.2f}.hdf5')\n",
    "cp_cb = ModelCheckpoint(filepath = chkpt, monitor='val_loss', verbose=1, save_best_only=True, mode='auto')"
   ]
  },
  {
   "cell_type": "code",
   "execution_count": 131,
   "metadata": {
    "scrolled": true
   },
   "outputs": [
    {
     "name": "stdout",
     "output_type": "stream",
     "text": [
      "Train on 60000 samples, validate on 10000 samples\n",
      "Epoch 1/100\n",
      "59904/60000 [============================>.] - ETA: 0s - loss: 0.0451 - acc: 0.9858Epoch 00001: val_loss improved from inf to 0.03389, saving model to ./mnist/MNIST.01-0.05-0.03.hdf5\n",
      "60000/60000 [==============================] - 53s 879us/step - loss: 0.0451 - acc: 0.9859 - val_loss: 0.0339 - val_acc: 0.9889\n",
      "Epoch 2/100\n",
      "59904/60000 [============================>.] - ETA: 0s - loss: 0.0396 - acc: 0.9873Epoch 00002: val_loss did not improve\n",
      "60000/60000 [==============================] - 52s 863us/step - loss: 0.0397 - acc: 0.9872 - val_loss: 0.0353 - val_acc: 0.9883\n",
      "Epoch 3/100\n",
      "59904/60000 [============================>.] - ETA: 0s - loss: 0.0364 - acc: 0.9888Epoch 00003: val_loss improved from 0.03389 to 0.03142, saving model to ./mnist/MNIST.03-0.04-0.03.hdf5\n",
      "60000/60000 [==============================] - 51s 853us/step - loss: 0.0364 - acc: 0.9888 - val_loss: 0.0314 - val_acc: 0.9902\n",
      "Epoch 4/100\n",
      "59904/60000 [============================>.] - ETA: 0s - loss: 0.0336 - acc: 0.9889Epoch 00004: val_loss did not improve\n",
      "60000/60000 [==============================] - 52s 870us/step - loss: 0.0336 - acc: 0.9889 - val_loss: 0.0318 - val_acc: 0.9894\n",
      "Epoch 5/100\n",
      "59904/60000 [============================>.] - ETA: 0s - loss: 0.0281 - acc: 0.9910Epoch 00005: val_loss improved from 0.03142 to 0.03033, saving model to ./mnist/MNIST.05-0.03-0.03.hdf5\n",
      "60000/60000 [==============================] - 51s 848us/step - loss: 0.0281 - acc: 0.9910 - val_loss: 0.0303 - val_acc: 0.9908\n",
      "Epoch 6/100\n",
      "59904/60000 [============================>.] - ETA: 0s - loss: 0.0291 - acc: 0.9909Epoch 00006: val_loss improved from 0.03033 to 0.02632, saving model to ./mnist/MNIST.06-0.03-0.03.hdf5\n",
      "60000/60000 [==============================] - 52s 860us/step - loss: 0.0291 - acc: 0.9909 - val_loss: 0.0263 - val_acc: 0.9916\n",
      "Epoch 7/100\n",
      "59904/60000 [============================>.] - ETA: 0s - loss: 0.0252 - acc: 0.9916Epoch 00007: val_loss did not improve\n",
      "60000/60000 [==============================] - 52s 872us/step - loss: 0.0252 - acc: 0.9915 - val_loss: 0.0296 - val_acc: 0.9918\n",
      "Epoch 8/100\n",
      "59904/60000 [============================>.] - ETA: 0s - loss: 0.0238 - acc: 0.9923Epoch 00008: val_loss did not improve\n",
      "60000/60000 [==============================] - 51s 856us/step - loss: 0.0238 - acc: 0.9923 - val_loss: 0.0297 - val_acc: 0.9908\n",
      "Epoch 9/100\n",
      "59904/60000 [============================>.] - ETA: 0s - loss: 0.0219 - acc: 0.9930Epoch 00009: val_loss did not improve\n",
      "60000/60000 [==============================] - 51s 853us/step - loss: 0.0218 - acc: 0.9930 - val_loss: 0.0341 - val_acc: 0.9908\n",
      "Epoch 00009: early stopping\n"
     ]
    },
    {
     "data": {
      "text/plain": [
       "<keras.callbacks.History at 0x7f9074681c50>"
      ]
     },
     "execution_count": 131,
     "metadata": {},
     "output_type": "execute_result"
    }
   ],
   "source": [
    "model.fit(x_train, y_train,\n",
    "          batch_size=batch_size,\n",
    "          epochs=epochs,\n",
    "          verbose=1,\n",
    "          callbacks=[es_cb, cp_cb],\n",
    "          validation_data=(x_test, y_test),\n",
    "          shuffle=True)"
   ]
  },
  {
   "cell_type": "code",
   "execution_count": 277,
   "metadata": {},
   "outputs": [],
   "source": [
    "model = getNewestModel(model, saveDir)"
   ]
  },
  {
   "cell_type": "code",
   "execution_count": 278,
   "metadata": {},
   "outputs": [
    {
     "name": "stdout",
     "output_type": "stream",
     "text": [
      "Test loss: 0.0263153266224\n",
      "Test accuracy: 0.9916\n"
     ]
    }
   ],
   "source": [
    "score = model.evaluate(x_test, y_test, verbose=0)\n",
    "print('Test loss:', score[0])\n",
    "print('Test accuracy:', score[1])"
   ]
  },
  {
   "cell_type": "code",
   "execution_count": null,
   "metadata": {},
   "outputs": [],
   "source": []
  },
  {
   "cell_type": "code",
   "execution_count": null,
   "metadata": {},
   "outputs": [],
   "source": []
  },
  {
   "cell_type": "code",
   "execution_count": 301,
   "metadata": {},
   "outputs": [
    {
     "name": "stdout",
     "output_type": "stream",
     "text": [
      "O testdata: 0\tpred: 7\ttruth: 7\n",
      "O testdata: 500\tpred: 3\ttruth: 3\n",
      "O testdata: 1000\tpred: 9\ttruth: 9\n",
      "O testdata: 1500\tpred: 7\ttruth: 7\n",
      "O testdata: 2000\tpred: 6\ttruth: 6\n",
      "O testdata: 2500\tpred: 2\ttruth: 2\n",
      "O testdata: 3000\tpred: 6\ttruth: 6\n",
      "O testdata: 3500\tpred: 4\ttruth: 4\n",
      "O testdata: 4000\tpred: 9\ttruth: 9\n",
      "O testdata: 4500\tpred: 9\ttruth: 9\n",
      "O testdata: 5000\tpred: 3\ttruth: 3\n",
      "O testdata: 5500\tpred: 4\ttruth: 4\n",
      "O testdata: 6000\tpred: 9\ttruth: 9\n",
      "O testdata: 6500\tpred: 5\ttruth: 5\n",
      "O testdata: 7000\tpred: 1\ttruth: 1\n",
      "O testdata: 7500\tpred: 8\ttruth: 8\n",
      "O testdata: 8000\tpred: 4\ttruth: 4\n",
      "O testdata: 8500\tpred: 4\ttruth: 4\n",
      "O testdata: 9000\tpred: 7\ttruth: 7\n",
      "O testdata: 9500\tpred: 2\ttruth: 2\n"
     ]
    }
   ],
   "source": [
    "er1 = 0\n",
    "for i in range(len(x_test)):\n",
    "    aeEv = autoEnc.evaluate(np.array([x_test[i]]), np.array([x_test[i]]), verbose=0)\n",
    "    a = aeEv / np.average(x_test[i])\n",
    "    if a <= 0.15:\n",
    "        if i % 500 == 0:\n",
    "            print(\"O testdata: {0}\\tpred: {1}\\ttruth: {2}\".\n",
    "                  format(i, np.argmax(model.predict(np.array([x_test[i]]))), np.argmax(y_test[i])))\n",
    "    else:\n",
    "        er1 += 1\n",
    "        if i % 500 == 0:\n",
    "            print(\"X testdata: NG\")"
   ]
  },
  {
   "cell_type": "code",
   "execution_count": 302,
   "metadata": {
    "collapsed": true
   },
   "outputs": [
    {
     "name": "stdout",
     "output_type": "stream",
     "text": [
      "O anomalydata: NG\n",
      "O anomalydata: NG\n",
      "O anomalydata: NG\n",
      "O anomalydata: NG\n",
      "O anomalydata: NG\n",
      "O anomalydata: NG\n",
      "O anomalydata: NG\n",
      "O anomalydata: NG\n",
      "O anomalydata: NG\n",
      "O anomalydata: NG\n",
      "O anomalydata: NG\n",
      "O anomalydata: NG\n",
      "O anomalydata: NG\n",
      "O anomalydata: NG\n",
      "O anomalydata: NG\n",
      "O anomalydata: NG\n",
      "O anomalydata: NG\n",
      "O anomalydata: NG\n",
      "O anomalydata: NG\n",
      "O anomalydata: NG\n"
     ]
    }
   ],
   "source": [
    "er2 = 0\n",
    "for i in range(len(anomImgR)):\n",
    "    aeEv = autoEnc.evaluate(np.array([anomImgR[i]]), np.array([anomImgR[i]]), verbose=0)\n",
    "    a = aeEv / np.average(anomImgR[i])\n",
    "    if a <= 0.15:\n",
    "        if i % 500 == 0:\n",
    "            er2 += 1\n",
    "            print(\"X anomalydata: {0}\\tpred: {1}\".format(i,np.argmax(model.predict(np.array([anomImgR[i]])))))\n",
    "    else:        \n",
    "        if i % 500 == 0:\n",
    "            print(\"O anomalydata: NG\")        "
   ]
  },
  {
   "cell_type": "code",
   "execution_count": 303,
   "metadata": {},
   "outputs": [
    {
     "name": "stdout",
     "output_type": "stream",
     "text": [
      "wrong detection rate in real data: 0.00865\n",
      "wrong detection rate in anomaly data: 0.0\n",
      "total wrong detection rate: 0.00865\n"
     ]
    }
   ],
   "source": [
    "print(\"wrong detection rate in real data: {0}\".format(er1 / (len(anomImgR) + len(x_test))))\n",
    "print(\"wrong detection rate in anomaly data: {0}\".format(er2 / (len(anomImgR) + len(x_test))))\n",
    "print(\"total wrong detection rate: {0}\".format((er1+er2) / (len(anomImgR) + len(x_test))))"
   ]
  },
  {
   "cell_type": "code",
   "execution_count": null,
   "metadata": {},
   "outputs": [],
   "source": []
  },
  {
   "cell_type": "code",
   "execution_count": null,
   "metadata": {},
   "outputs": [],
   "source": []
  },
  {
   "cell_type": "code",
   "execution_count": 286,
   "metadata": {},
   "outputs": [],
   "source": [
    "(xx_train, yy_train), (xx_test, yy_test) = mnist.load_data()\n",
    "num_classes2 = 11"
   ]
  },
  {
   "cell_type": "code",
   "execution_count": 287,
   "metadata": {},
   "outputs": [],
   "source": [
    "en = [i for i in range(len(anomImg)) if i % 2 == 0]\n",
    "od = [i for i in range(len(anomImg)) if i % 2 == 1]\n",
    "y_anom = np.array([10 for i in range(int(len(anomImg)/2))])"
   ]
  },
  {
   "cell_type": "code",
   "execution_count": 288,
   "metadata": {},
   "outputs": [],
   "source": [
    "xx_train = np.vstack((xx_train, anomImg[en]))\n",
    "yy_train = np.hstack((yy_train, y_anom))\n",
    "xx_test = np.vstack((xx_test, anomImg[od]))\n",
    "yy_test = np.hstack((yy_test, y_anom))"
   ]
  },
  {
   "cell_type": "code",
   "execution_count": null,
   "metadata": {},
   "outputs": [],
   "source": []
  },
  {
   "cell_type": "code",
   "execution_count": 289,
   "metadata": {},
   "outputs": [],
   "source": [
    "xx_train = xx_train.reshape(xx_train.shape[0], img_rows, img_cols, 1)\n",
    "xx_test = xx_test.reshape(xx_test.shape[0], img_rows, img_cols, 1)\n",
    "input_shape = (img_rows, img_cols, 1)"
   ]
  },
  {
   "cell_type": "code",
   "execution_count": 290,
   "metadata": {},
   "outputs": [
    {
     "name": "stdout",
     "output_type": "stream",
     "text": [
      "x_train shape: (65000, 28, 28, 1)\n",
      "65000 train samples\n",
      "15000 test samples\n"
     ]
    }
   ],
   "source": [
    "xx_train = xx_train.astype('float32')\n",
    "xx_test = xx_test.astype('float32')\n",
    "xx_train /= 255\n",
    "xx_test /= 255\n",
    "print('x_train shape:', xx_train.shape)\n",
    "print(xx_train.shape[0], 'train samples')\n",
    "print(xx_test.shape[0], 'test samples')"
   ]
  },
  {
   "cell_type": "code",
   "execution_count": 291,
   "metadata": {},
   "outputs": [],
   "source": [
    "# convert class vectors to binary class matrices\n",
    "yy_train = keras.utils.to_categorical(yy_train, num_classes2)\n",
    "yy_test = keras.utils.to_categorical(yy_test, num_classes2)"
   ]
  },
  {
   "cell_type": "code",
   "execution_count": null,
   "metadata": {},
   "outputs": [],
   "source": []
  },
  {
   "cell_type": "code",
   "execution_count": null,
   "metadata": {},
   "outputs": [],
   "source": []
  },
  {
   "cell_type": "code",
   "execution_count": 292,
   "metadata": {},
   "outputs": [],
   "source": [
    "saveDir2 = \"./mnist2/\"\n",
    "if not os.path.isdir(saveDir2):\n",
    "    os.makedirs(saveDir2)"
   ]
  },
  {
   "cell_type": "code",
   "execution_count": 293,
   "metadata": {},
   "outputs": [],
   "source": [
    "batch_size = 128\n",
    "epochs = 100"
   ]
  },
  {
   "cell_type": "code",
   "execution_count": 294,
   "metadata": {},
   "outputs": [],
   "source": [
    "model2 = Sequential()\n",
    "model2.add(Conv2D(32, kernel_size=(3, 3),\n",
    "                 activation='relu',\n",
    "                 input_shape=input_shape))\n",
    "model2.add(Conv2D(64, (3, 3), activation='relu'))\n",
    "model2.add(MaxPooling2D(pool_size=(2, 2)))\n",
    "model2.add(Dropout(0.25))\n",
    "model2.add(Flatten())\n",
    "model2.add(Dense(128, activation='relu'))\n",
    "model2.add(Dropout(0.5))\n",
    "model2.add(Dense(num_classes2, activation='softmax'))"
   ]
  },
  {
   "cell_type": "code",
   "execution_count": 295,
   "metadata": {},
   "outputs": [],
   "source": [
    "model2.compile(loss=keras.losses.categorical_crossentropy,\n",
    "              optimizer=keras.optimizers.Adam(),\n",
    "              metrics=['accuracy'])"
   ]
  },
  {
   "cell_type": "code",
   "execution_count": 296,
   "metadata": {},
   "outputs": [],
   "source": [
    "model2 = getNewestModel(model2, saveDir2)"
   ]
  },
  {
   "cell_type": "code",
   "execution_count": 297,
   "metadata": {},
   "outputs": [],
   "source": [
    "es_cb = EarlyStopping(monitor='val_loss', patience=3, verbose=1, mode='auto')\n",
    "chkpt = os.path.join(saveDir2, 'MNIST2.{epoch:02d}-{loss:.2f}-{val_loss:.2f}.hdf5')\n",
    "cp_cb = ModelCheckpoint(filepath = chkpt, monitor='val_loss', verbose=1, save_best_only=True, mode='auto')"
   ]
  },
  {
   "cell_type": "code",
   "execution_count": 298,
   "metadata": {
    "scrolled": true
   },
   "outputs": [
    {
     "name": "stdout",
     "output_type": "stream",
     "text": [
      "Train on 65000 samples, validate on 15000 samples\n",
      "Epoch 1/100\n",
      "64896/65000 [============================>.] - ETA: 0s - loss: 0.0188 - acc: 0.9940Epoch 00001: val_loss improved from inf to 0.01931, saving model to ./mnist2/MNIST2.01-0.02-0.02.hdf5\n",
      "65000/65000 [==============================] - 58s 886us/step - loss: 0.0188 - acc: 0.9940 - val_loss: 0.0193 - val_acc: 0.9949\n",
      "Epoch 2/100\n",
      "64896/65000 [============================>.] - ETA: 0s - loss: 0.0147 - acc: 0.9952Epoch 00002: val_loss did not improve\n",
      "65000/65000 [==============================] - 55s 842us/step - loss: 0.0147 - acc: 0.9952 - val_loss: 0.0229 - val_acc: 0.9947\n",
      "Epoch 3/100\n",
      "64896/65000 [============================>.] - ETA: 0s - loss: 0.0144 - acc: 0.9954Epoch 00003: val_loss did not improve\n",
      "65000/65000 [==============================] - 55s 846us/step - loss: 0.0144 - acc: 0.9954 - val_loss: 0.0225 - val_acc: 0.9949\n",
      "Epoch 4/100\n",
      "64896/65000 [============================>.] - ETA: 0s - loss: 0.0129 - acc: 0.9957Epoch 00004: val_loss did not improve\n",
      "65000/65000 [==============================] - 55s 852us/step - loss: 0.0130 - acc: 0.9957 - val_loss: 0.0209 - val_acc: 0.9945\n",
      "Epoch 00004: early stopping\n"
     ]
    },
    {
     "data": {
      "text/plain": [
       "<keras.callbacks.History at 0x7f906d3f8898>"
      ]
     },
     "execution_count": 298,
     "metadata": {},
     "output_type": "execute_result"
    }
   ],
   "source": [
    "model2.fit(xx_train, yy_train,\n",
    "          batch_size=batch_size,\n",
    "          epochs=epochs,\n",
    "          verbose=1,\n",
    "          callbacks=[es_cb, cp_cb],\n",
    "          validation_data=(xx_test, yy_test),\n",
    "          shuffle=True)"
   ]
  },
  {
   "cell_type": "code",
   "execution_count": 299,
   "metadata": {},
   "outputs": [],
   "source": [
    "model2 = getNewestModel(model2, saveDir2)"
   ]
  },
  {
   "cell_type": "code",
   "execution_count": 300,
   "metadata": {},
   "outputs": [
    {
     "name": "stdout",
     "output_type": "stream",
     "text": [
      "Test loss: 0.0193138264722\n",
      "Test accuracy: 0.994933333333\n"
     ]
    }
   ],
   "source": [
    "score = model2.evaluate(xx_test, yy_test, verbose=0)\n",
    "print('Test loss:', score[0])\n",
    "print('Test accuracy:', score[1])"
   ]
  },
  {
   "cell_type": "code",
   "execution_count": null,
   "metadata": {},
   "outputs": [],
   "source": []
  },
  {
   "cell_type": "code",
   "execution_count": null,
   "metadata": {},
   "outputs": [],
   "source": []
  }
 ],
 "metadata": {
  "kernelspec": {
   "display_name": "Python 3",
   "language": "python",
   "name": "python3"
  },
  "language_info": {
   "codemirror_mode": {
    "name": "ipython",
    "version": 3
   },
   "file_extension": ".py",
   "mimetype": "text/x-python",
   "name": "python",
   "nbconvert_exporter": "python",
   "pygments_lexer": "ipython3",
   "version": "3.6.3"
  }
 },
 "nbformat": 4,
 "nbformat_minor": 2
}
